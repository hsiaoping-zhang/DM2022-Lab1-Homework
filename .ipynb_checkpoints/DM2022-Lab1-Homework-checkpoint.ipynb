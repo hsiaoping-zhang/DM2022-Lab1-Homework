{
 "cells": [
  {
   "cell_type": "markdown",
   "id": "3794cb29",
   "metadata": {},
   "source": [
    "### Student Information\n",
    "Name: 張筱萍\n",
    "\n",
    "Student ID: 111065529\n",
    "\n",
    "GitHub ID: hsiaoping-zhang"
   ]
  },
  {
   "cell_type": "markdown",
   "id": "2d3131ff",
   "metadata": {},
   "source": [
    "### Load data"
   ]
  },
  {
   "cell_type": "code",
   "execution_count": 1,
   "id": "0d213630",
   "metadata": {},
   "outputs": [],
   "source": [
    "import pandas as pd\n",
    "import numpy as np"
   ]
  },
  {
   "cell_type": "code",
   "execution_count": 2,
   "id": "0953df44",
   "metadata": {},
   "outputs": [
    {
     "data": {
      "text/plain": [
       "(2748, 3)"
      ]
     },
     "execution_count": 2,
     "metadata": {},
     "output_type": "execute_result"
    }
   ],
   "source": [
    "# there are 3 dataset files needed to load\n",
    "dataset_name_array = ['imdb', 'amazon_cells', 'yelp',]\n",
    "data_columns = [\"sentance\", \"score\", \"dataset\"]\n",
    "data = pd.DataFrame([], columns=data_columns)\n",
    "\n",
    "for name in dataset_name_array:\n",
    "    file = pd.read_csv(f\"data/{name}_labelled.txt\", sep=\"\\t\", header=None)\n",
    "    file.columns = [\"sentance\", \"score\"]\n",
    "    file['dataset'] = [name] * len(file)\n",
    "    data = pd.concat([data, file], axis=0, ignore_index=True)\n",
    "data.shape"
   ]
  },
  {
   "cell_type": "code",
   "execution_count": 3,
   "id": "64fae7e3",
   "metadata": {},
   "outputs": [
    {
     "data": {
      "text/plain": [
       "'A very, very, very slow-moving, aimless movie about a distressed, drifting young man.  '"
      ]
     },
     "execution_count": 3,
     "metadata": {},
     "output_type": "execute_result"
    }
   ],
   "source": [
    "data.sentance[0]"
   ]
  },
  {
   "cell_type": "markdown",
   "id": "9e25e1af",
   "metadata": {},
   "source": [
    "### Information about this data"
   ]
  },
  {
   "cell_type": "code",
   "execution_count": 4,
   "id": "c021c85d",
   "metadata": {},
   "outputs": [
    {
     "name": "stdout",
     "output_type": "stream",
     "text": [
      "<class 'pandas.core.frame.DataFrame'>\n",
      "RangeIndex: 2748 entries, 0 to 2747\n",
      "Data columns (total 3 columns):\n",
      " #   Column    Non-Null Count  Dtype \n",
      "---  ------    --------------  ----- \n",
      " 0   sentance  2748 non-null   object\n",
      " 1   score     2748 non-null   object\n",
      " 2   dataset   2748 non-null   object\n",
      "dtypes: object(3)\n",
      "memory usage: 64.5+ KB\n"
     ]
    }
   ],
   "source": [
    "# basic information about this data\n",
    "data.info()"
   ]
  },
  {
   "cell_type": "code",
   "execution_count": 5,
   "id": "06644945",
   "metadata": {},
   "outputs": [
    {
     "data": {
      "text/plain": [
       "1    1386\n",
       "0    1362\n",
       "Name: score, dtype: int64"
      ]
     },
     "execution_count": 5,
     "metadata": {},
     "output_type": "execute_result"
    }
   ],
   "source": [
    "# target column: socre, with 2 type labels\n",
    "data.score.value_counts()"
   ]
  },
  {
   "cell_type": "code",
   "execution_count": 6,
   "id": "ca0a4854",
   "metadata": {},
   "outputs": [
    {
     "data": {
      "text/html": [
       "<div>\n",
       "<style scoped>\n",
       "    .dataframe tbody tr th:only-of-type {\n",
       "        vertical-align: middle;\n",
       "    }\n",
       "\n",
       "    .dataframe tbody tr th {\n",
       "        vertical-align: top;\n",
       "    }\n",
       "\n",
       "    .dataframe thead th {\n",
       "        text-align: right;\n",
       "    }\n",
       "</style>\n",
       "<table border=\"1\" class=\"dataframe\">\n",
       "  <thead>\n",
       "    <tr style=\"text-align: right;\">\n",
       "      <th></th>\n",
       "      <th>sentance</th>\n",
       "      <th>score</th>\n",
       "      <th>dataset</th>\n",
       "    </tr>\n",
       "  </thead>\n",
       "  <tbody>\n",
       "    <tr>\n",
       "      <th>0</th>\n",
       "      <td>A very, very, very slow-moving, aimless movie ...</td>\n",
       "      <td>0</td>\n",
       "      <td>imdb</td>\n",
       "    </tr>\n",
       "    <tr>\n",
       "      <th>1</th>\n",
       "      <td>Not sure who was more lost - the flat characte...</td>\n",
       "      <td>0</td>\n",
       "      <td>imdb</td>\n",
       "    </tr>\n",
       "    <tr>\n",
       "      <th>2</th>\n",
       "      <td>Attempting artiness with black &amp; white and cle...</td>\n",
       "      <td>0</td>\n",
       "      <td>imdb</td>\n",
       "    </tr>\n",
       "    <tr>\n",
       "      <th>3</th>\n",
       "      <td>Very little music or anything to speak of.</td>\n",
       "      <td>0</td>\n",
       "      <td>imdb</td>\n",
       "    </tr>\n",
       "    <tr>\n",
       "      <th>4</th>\n",
       "      <td>The best scene in the movie was when Gerardo i...</td>\n",
       "      <td>1</td>\n",
       "      <td>imdb</td>\n",
       "    </tr>\n",
       "  </tbody>\n",
       "</table>\n",
       "</div>"
      ],
      "text/plain": [
       "                                            sentance score dataset\n",
       "0  A very, very, very slow-moving, aimless movie ...     0    imdb\n",
       "1  Not sure who was more lost - the flat characte...     0    imdb\n",
       "2  Attempting artiness with black & white and cle...     0    imdb\n",
       "3       Very little music or anything to speak of.       0    imdb\n",
       "4  The best scene in the movie was when Gerardo i...     1    imdb"
      ]
     },
     "execution_count": 6,
     "metadata": {},
     "output_type": "execute_result"
    }
   ],
   "source": [
    "data.head()"
   ]
  },
  {
   "cell_type": "code",
   "execution_count": 7,
   "id": "105ed7df",
   "metadata": {},
   "outputs": [
    {
     "name": "stdout",
     "output_type": "stream",
     "text": [
      "A very, very, very slow-moving, aimless movie about a distressed, drifting young man.  \n",
      "score: 0 (negative)\n",
      "- - -\n",
      "Not sure who was more lost - the flat characters or the audience, nearly half of whom walked out.  \n",
      "score: 0 (negative)\n",
      "- - -\n",
      "Attempting artiness with black & white and clever camera angles, the movie disappointed - became even more ridiculous - as the acting was poor and the plot and lines almost non-existent.  \n",
      "score: 0 (negative)\n",
      "- - -\n",
      "Very little music or anything to speak of.  \n",
      "score: 0 (negative)\n",
      "- - -\n",
      "The best scene in the movie was when Gerardo is trying to find a song that keeps running through his head.  \n",
      "score: 1 (positive)\n",
      "- - -\n"
     ]
    }
   ],
   "source": [
    "# take a pick of top 5 data\n",
    "for i in range(5):\n",
    "    print(data.iloc[i].sentance)\n",
    "    print(f\"score: {data.score[i]} ({'positive' if data.score[i] else 'negative'})\")\n",
    "    print(\"- - -\")"
   ]
  },
  {
   "cell_type": "code",
   "execution_count": 8,
   "id": "cd1832be",
   "metadata": {
    "scrolled": true
   },
   "outputs": [
    {
     "data": {
      "text/html": [
       "<div>\n",
       "<style scoped>\n",
       "    .dataframe tbody tr th:only-of-type {\n",
       "        vertical-align: middle;\n",
       "    }\n",
       "\n",
       "    .dataframe tbody tr th {\n",
       "        vertical-align: top;\n",
       "    }\n",
       "\n",
       "    .dataframe thead th {\n",
       "        text-align: right;\n",
       "    }\n",
       "</style>\n",
       "<table border=\"1\" class=\"dataframe\">\n",
       "  <thead>\n",
       "    <tr style=\"text-align: right;\">\n",
       "      <th></th>\n",
       "      <th>sentance</th>\n",
       "      <th>score</th>\n",
       "      <th>dataset</th>\n",
       "    </tr>\n",
       "  </thead>\n",
       "  <tbody>\n",
       "    <tr>\n",
       "      <th>749</th>\n",
       "      <td>Good case, Excellent value.</td>\n",
       "      <td>1</td>\n",
       "      <td>amazon_cells</td>\n",
       "    </tr>\n",
       "    <tr>\n",
       "      <th>750</th>\n",
       "      <td>Great for the jawbone.</td>\n",
       "      <td>1</td>\n",
       "      <td>amazon_cells</td>\n",
       "    </tr>\n",
       "    <tr>\n",
       "      <th>752</th>\n",
       "      <td>The mic is great.</td>\n",
       "      <td>1</td>\n",
       "      <td>amazon_cells</td>\n",
       "    </tr>\n",
       "    <tr>\n",
       "      <th>755</th>\n",
       "      <td>If you are Razr owner...you must have this!</td>\n",
       "      <td>1</td>\n",
       "      <td>amazon_cells</td>\n",
       "    </tr>\n",
       "    <tr>\n",
       "      <th>758</th>\n",
       "      <td>And the sound quality is great.</td>\n",
       "      <td>1</td>\n",
       "      <td>amazon_cells</td>\n",
       "    </tr>\n",
       "    <tr>\n",
       "      <th>759</th>\n",
       "      <td>He was very impressed when going from the orig...</td>\n",
       "      <td>1</td>\n",
       "      <td>amazon_cells</td>\n",
       "    </tr>\n",
       "    <tr>\n",
       "      <th>761</th>\n",
       "      <td>Very good quality though</td>\n",
       "      <td>1</td>\n",
       "      <td>amazon_cells</td>\n",
       "    </tr>\n",
       "    <tr>\n",
       "      <th>763</th>\n",
       "      <td>Highly recommend for any one who has a blue to...</td>\n",
       "      <td>1</td>\n",
       "      <td>amazon_cells</td>\n",
       "    </tr>\n",
       "    <tr>\n",
       "      <th>765</th>\n",
       "      <td>So Far So Good!.</td>\n",
       "      <td>1</td>\n",
       "      <td>amazon_cells</td>\n",
       "    </tr>\n",
       "    <tr>\n",
       "      <th>766</th>\n",
       "      <td>Works great!.</td>\n",
       "      <td>1</td>\n",
       "      <td>amazon_cells</td>\n",
       "    </tr>\n",
       "    <tr>\n",
       "      <th>1748</th>\n",
       "      <td>Wow... Loved this place.</td>\n",
       "      <td>1</td>\n",
       "      <td>yelp</td>\n",
       "    </tr>\n",
       "    <tr>\n",
       "      <th>1751</th>\n",
       "      <td>Stopped by during the late May bank holiday of...</td>\n",
       "      <td>1</td>\n",
       "      <td>yelp</td>\n",
       "    </tr>\n",
       "    <tr>\n",
       "      <th>1752</th>\n",
       "      <td>The selection on the menu was great and so wer...</td>\n",
       "      <td>1</td>\n",
       "      <td>yelp</td>\n",
       "    </tr>\n",
       "    <tr>\n",
       "      <th>1756</th>\n",
       "      <td>The fries were great too.</td>\n",
       "      <td>1</td>\n",
       "      <td>yelp</td>\n",
       "    </tr>\n",
       "    <tr>\n",
       "      <th>1757</th>\n",
       "      <td>A great touch.</td>\n",
       "      <td>1</td>\n",
       "      <td>yelp</td>\n",
       "    </tr>\n",
       "    <tr>\n",
       "      <th>1758</th>\n",
       "      <td>Service was very prompt.</td>\n",
       "      <td>1</td>\n",
       "      <td>yelp</td>\n",
       "    </tr>\n",
       "    <tr>\n",
       "      <th>1761</th>\n",
       "      <td>I tried the Cape Cod ravoli, chicken,with cran...</td>\n",
       "      <td>1</td>\n",
       "      <td>yelp</td>\n",
       "    </tr>\n",
       "    <tr>\n",
       "      <th>1764</th>\n",
       "      <td>Highly recommended.</td>\n",
       "      <td>1</td>\n",
       "      <td>yelp</td>\n",
       "    </tr>\n",
       "    <tr>\n",
       "      <th>1769</th>\n",
       "      <td>The food, amazing.</td>\n",
       "      <td>1</td>\n",
       "      <td>yelp</td>\n",
       "    </tr>\n",
       "    <tr>\n",
       "      <th>1770</th>\n",
       "      <td>Service is also cute.</td>\n",
       "      <td>1</td>\n",
       "      <td>yelp</td>\n",
       "    </tr>\n",
       "    <tr>\n",
       "      <th>4</th>\n",
       "      <td>The best scene in the movie was when Gerardo i...</td>\n",
       "      <td>1</td>\n",
       "      <td>imdb</td>\n",
       "    </tr>\n",
       "    <tr>\n",
       "      <th>7</th>\n",
       "      <td>Saw the movie today and thought it was a good ...</td>\n",
       "      <td>1</td>\n",
       "      <td>imdb</td>\n",
       "    </tr>\n",
       "    <tr>\n",
       "      <th>9</th>\n",
       "      <td>Loved the casting of Jimmy Buffet as the scien...</td>\n",
       "      <td>1</td>\n",
       "      <td>imdb</td>\n",
       "    </tr>\n",
       "    <tr>\n",
       "      <th>10</th>\n",
       "      <td>And those baby owls were adorable.</td>\n",
       "      <td>1</td>\n",
       "      <td>imdb</td>\n",
       "    </tr>\n",
       "    <tr>\n",
       "      <th>11</th>\n",
       "      <td>The movie showed a lot of Florida at it's best...</td>\n",
       "      <td>1</td>\n",
       "      <td>imdb</td>\n",
       "    </tr>\n",
       "    <tr>\n",
       "      <th>12</th>\n",
       "      <td>The Songs Were The Best And The Muppets Were S...</td>\n",
       "      <td>1</td>\n",
       "      <td>imdb</td>\n",
       "    </tr>\n",
       "    <tr>\n",
       "      <th>13</th>\n",
       "      <td>It Was So Cool.</td>\n",
       "      <td>1</td>\n",
       "      <td>imdb</td>\n",
       "    </tr>\n",
       "    <tr>\n",
       "      <th>14</th>\n",
       "      <td>This is a very \"right on case\" movie that deli...</td>\n",
       "      <td>1</td>\n",
       "      <td>imdb</td>\n",
       "    </tr>\n",
       "    <tr>\n",
       "      <th>16</th>\n",
       "      <td>This review is long overdue, since I consider ...</td>\n",
       "      <td>1</td>\n",
       "      <td>imdb</td>\n",
       "    </tr>\n",
       "    <tr>\n",
       "      <th>17</th>\n",
       "      <td>I'll put this gem up against any movie in term...</td>\n",
       "      <td>1</td>\n",
       "      <td>imdb</td>\n",
       "    </tr>\n",
       "  </tbody>\n",
       "</table>\n",
       "</div>"
      ],
      "text/plain": [
       "                                               sentance score       dataset\n",
       "749                         Good case, Excellent value.     1  amazon_cells\n",
       "750                              Great for the jawbone.     1  amazon_cells\n",
       "752                                   The mic is great.     1  amazon_cells\n",
       "755         If you are Razr owner...you must have this!     1  amazon_cells\n",
       "758                     And the sound quality is great.     1  amazon_cells\n",
       "759   He was very impressed when going from the orig...     1  amazon_cells\n",
       "761                            Very good quality though     1  amazon_cells\n",
       "763   Highly recommend for any one who has a blue to...     1  amazon_cells\n",
       "765                                    So Far So Good!.     1  amazon_cells\n",
       "766                                       Works great!.     1  amazon_cells\n",
       "1748                           Wow... Loved this place.     1          yelp\n",
       "1751  Stopped by during the late May bank holiday of...     1          yelp\n",
       "1752  The selection on the menu was great and so wer...     1          yelp\n",
       "1756                          The fries were great too.     1          yelp\n",
       "1757                                     A great touch.     1          yelp\n",
       "1758                           Service was very prompt.     1          yelp\n",
       "1761  I tried the Cape Cod ravoli, chicken,with cran...     1          yelp\n",
       "1764                                Highly recommended.     1          yelp\n",
       "1769                                 The food, amazing.     1          yelp\n",
       "1770                              Service is also cute.     1          yelp\n",
       "4     The best scene in the movie was when Gerardo i...     1          imdb\n",
       "7     Saw the movie today and thought it was a good ...     1          imdb\n",
       "9     Loved the casting of Jimmy Buffet as the scien...     1          imdb\n",
       "10                 And those baby owls were adorable.       1          imdb\n",
       "11    The movie showed a lot of Florida at it's best...     1          imdb\n",
       "12    The Songs Were The Best And The Muppets Were S...     1          imdb\n",
       "13                                    It Was So Cool.       1          imdb\n",
       "14    This is a very \"right on case\" movie that deli...     1          imdb\n",
       "16    This review is long overdue, since I consider ...     1          imdb\n",
       "17    I'll put this gem up against any movie in term...     1          imdb"
      ]
     },
     "execution_count": 8,
     "metadata": {},
     "output_type": "execute_result"
    }
   ],
   "source": [
    "# top 10 positive data for each dataset\n",
    "extract_df = pd.DataFrame()\n",
    "\n",
    "for dataset in data.dataset.value_counts().keys():\n",
    "    subdata = data[data['dataset'] == dataset]\n",
    "    extract_df = pd.concat([extract_df, subdata[subdata['score'] == 1][:10]], axis=0)\n",
    "extract_df"
   ]
  },
  {
   "cell_type": "markdown",
   "id": "3c2ea971",
   "metadata": {},
   "source": [
    "### Data Visualization"
   ]
  },
  {
   "cell_type": "code",
   "execution_count": 9,
   "id": "b0dbad4d",
   "metadata": {},
   "outputs": [
    {
     "name": "stderr",
     "output_type": "stream",
     "text": [
      "[nltk_data] Downloading package stopwords to\n",
      "[nltk_data]     /Users/hsiaoping.zhang/nltk_data...\n",
      "[nltk_data]   Package stopwords is already up-to-date!\n"
     ]
    },
    {
     "data": {
      "text/plain": [
       "True"
      ]
     },
     "execution_count": 9,
     "metadata": {},
     "output_type": "execute_result"
    }
   ],
   "source": [
    "import nltk\n",
    "from nltk.corpus import stopwords\n",
    "from wordcloud import WordCloud\n",
    "nltk.download('stopwords')"
   ]
  },
  {
   "cell_type": "code",
   "execution_count": 10,
   "id": "f31ed0dc",
   "metadata": {},
   "outputs": [],
   "source": [
    "def word_cloud_figure(text):\n",
    "    word_tokens_list = text.apply(lambda x: dmh.tokenize_text(x))\n",
    "    \n",
    "    stop_words = set(stopwords.words('english'))\n",
    "\n",
    "    filtered_sentence = \"\"  # filter without stopword\n",
    "    for item in word_tokens_list:\n",
    "        for token in item:\n",
    "            if token.lower() not in stop_words and len(token) >= 2:\n",
    "                filtered_sentence += (token + ' ')\n",
    "                \n",
    "    wordcloud = WordCloud().generate(filtered_sentence)\n",
    "    plt.figure()\n",
    "    plt.imshow(wordcloud, interpolation=\"bilinear\")\n",
    "    plt.axis(\"off\")\n",
    "    plt.show()"
   ]
  },
  {
   "cell_type": "code",
   "execution_count": 11,
   "id": "d268f6c8",
   "metadata": {},
   "outputs": [
    {
     "ename": "NameError",
     "evalue": "name 'dmh' is not defined",
     "output_type": "error",
     "traceback": [
      "\u001b[0;31m---------------------------------------------------------------------------\u001b[0m",
      "\u001b[0;31mNameError\u001b[0m                                 Traceback (most recent call last)",
      "\u001b[0;32m/var/folders/rd/0nr5tzsn2z17vy9fjcj5rlsc0000gn/T/ipykernel_52212/3404902619.py\u001b[0m in \u001b[0;36m<module>\u001b[0;34m\u001b[0m\n\u001b[1;32m      1\u001b[0m \u001b[0;31m# positive\u001b[0m\u001b[0;34m\u001b[0m\u001b[0;34m\u001b[0m\u001b[0;34m\u001b[0m\u001b[0m\n\u001b[0;32m----> 2\u001b[0;31m \u001b[0mword_cloud_figure\u001b[0m\u001b[0;34m(\u001b[0m\u001b[0mdata\u001b[0m\u001b[0;34m[\u001b[0m\u001b[0mdata\u001b[0m\u001b[0;34m[\u001b[0m\u001b[0;34m'score'\u001b[0m\u001b[0;34m]\u001b[0m \u001b[0;34m==\u001b[0m \u001b[0;36m1\u001b[0m\u001b[0;34m]\u001b[0m\u001b[0;34m[\u001b[0m\u001b[0;34m'sentance'\u001b[0m\u001b[0;34m]\u001b[0m\u001b[0;34m)\u001b[0m\u001b[0;34m\u001b[0m\u001b[0;34m\u001b[0m\u001b[0m\n\u001b[0m",
      "\u001b[0;32m/var/folders/rd/0nr5tzsn2z17vy9fjcj5rlsc0000gn/T/ipykernel_52212/689513516.py\u001b[0m in \u001b[0;36mword_cloud_figure\u001b[0;34m(text)\u001b[0m\n\u001b[1;32m      1\u001b[0m \u001b[0;32mdef\u001b[0m \u001b[0mword_cloud_figure\u001b[0m\u001b[0;34m(\u001b[0m\u001b[0mtext\u001b[0m\u001b[0;34m)\u001b[0m\u001b[0;34m:\u001b[0m\u001b[0;34m\u001b[0m\u001b[0;34m\u001b[0m\u001b[0m\n\u001b[0;32m----> 2\u001b[0;31m     \u001b[0mword_tokens_list\u001b[0m \u001b[0;34m=\u001b[0m \u001b[0mtext\u001b[0m\u001b[0;34m.\u001b[0m\u001b[0mapply\u001b[0m\u001b[0;34m(\u001b[0m\u001b[0;32mlambda\u001b[0m \u001b[0mx\u001b[0m\u001b[0;34m:\u001b[0m \u001b[0mdmh\u001b[0m\u001b[0;34m.\u001b[0m\u001b[0mtokenize_text\u001b[0m\u001b[0;34m(\u001b[0m\u001b[0mx\u001b[0m\u001b[0;34m)\u001b[0m\u001b[0;34m)\u001b[0m\u001b[0;34m\u001b[0m\u001b[0;34m\u001b[0m\u001b[0m\n\u001b[0m\u001b[1;32m      3\u001b[0m \u001b[0;34m\u001b[0m\u001b[0m\n\u001b[1;32m      4\u001b[0m     \u001b[0mstop_words\u001b[0m \u001b[0;34m=\u001b[0m \u001b[0mset\u001b[0m\u001b[0;34m(\u001b[0m\u001b[0mstopwords\u001b[0m\u001b[0;34m.\u001b[0m\u001b[0mwords\u001b[0m\u001b[0;34m(\u001b[0m\u001b[0;34m'english'\u001b[0m\u001b[0;34m)\u001b[0m\u001b[0;34m)\u001b[0m\u001b[0;34m\u001b[0m\u001b[0;34m\u001b[0m\u001b[0m\n\u001b[1;32m      5\u001b[0m \u001b[0;34m\u001b[0m\u001b[0m\n",
      "\u001b[0;32m~/tensorflow_macos_venv/lib/python3.8/site-packages/pandas/core/series.py\u001b[0m in \u001b[0;36mapply\u001b[0;34m(self, func, convert_dtype, args, **kwargs)\u001b[0m\n\u001b[1;32m   4355\u001b[0m         \u001b[0mdtype\u001b[0m\u001b[0;34m:\u001b[0m \u001b[0mfloat64\u001b[0m\u001b[0;34m\u001b[0m\u001b[0;34m\u001b[0m\u001b[0m\n\u001b[1;32m   4356\u001b[0m         \"\"\"\n\u001b[0;32m-> 4357\u001b[0;31m         \u001b[0;32mreturn\u001b[0m \u001b[0mSeriesApply\u001b[0m\u001b[0;34m(\u001b[0m\u001b[0mself\u001b[0m\u001b[0;34m,\u001b[0m \u001b[0mfunc\u001b[0m\u001b[0;34m,\u001b[0m \u001b[0mconvert_dtype\u001b[0m\u001b[0;34m,\u001b[0m \u001b[0margs\u001b[0m\u001b[0;34m,\u001b[0m \u001b[0mkwargs\u001b[0m\u001b[0;34m)\u001b[0m\u001b[0;34m.\u001b[0m\u001b[0mapply\u001b[0m\u001b[0;34m(\u001b[0m\u001b[0;34m)\u001b[0m\u001b[0;34m\u001b[0m\u001b[0;34m\u001b[0m\u001b[0m\n\u001b[0m\u001b[1;32m   4358\u001b[0m \u001b[0;34m\u001b[0m\u001b[0m\n\u001b[1;32m   4359\u001b[0m     def _reduce(\n",
      "\u001b[0;32m~/tensorflow_macos_venv/lib/python3.8/site-packages/pandas/core/apply.py\u001b[0m in \u001b[0;36mapply\u001b[0;34m(self)\u001b[0m\n\u001b[1;32m   1041\u001b[0m             \u001b[0;32mreturn\u001b[0m \u001b[0mself\u001b[0m\u001b[0;34m.\u001b[0m\u001b[0mapply_str\u001b[0m\u001b[0;34m(\u001b[0m\u001b[0;34m)\u001b[0m\u001b[0;34m\u001b[0m\u001b[0;34m\u001b[0m\u001b[0m\n\u001b[1;32m   1042\u001b[0m \u001b[0;34m\u001b[0m\u001b[0m\n\u001b[0;32m-> 1043\u001b[0;31m         \u001b[0;32mreturn\u001b[0m \u001b[0mself\u001b[0m\u001b[0;34m.\u001b[0m\u001b[0mapply_standard\u001b[0m\u001b[0;34m(\u001b[0m\u001b[0;34m)\u001b[0m\u001b[0;34m\u001b[0m\u001b[0;34m\u001b[0m\u001b[0m\n\u001b[0m\u001b[1;32m   1044\u001b[0m \u001b[0;34m\u001b[0m\u001b[0m\n\u001b[1;32m   1045\u001b[0m     \u001b[0;32mdef\u001b[0m \u001b[0magg\u001b[0m\u001b[0;34m(\u001b[0m\u001b[0mself\u001b[0m\u001b[0;34m)\u001b[0m\u001b[0;34m:\u001b[0m\u001b[0;34m\u001b[0m\u001b[0;34m\u001b[0m\u001b[0m\n",
      "\u001b[0;32m~/tensorflow_macos_venv/lib/python3.8/site-packages/pandas/core/apply.py\u001b[0m in \u001b[0;36mapply_standard\u001b[0;34m(self)\u001b[0m\n\u001b[1;32m   1096\u001b[0m                 \u001b[0;31m# List[Union[Callable[..., Any], str]]]]]\"; expected\u001b[0m\u001b[0;34m\u001b[0m\u001b[0;34m\u001b[0m\u001b[0;34m\u001b[0m\u001b[0m\n\u001b[1;32m   1097\u001b[0m                 \u001b[0;31m# \"Callable[[Any], Any]\"\u001b[0m\u001b[0;34m\u001b[0m\u001b[0;34m\u001b[0m\u001b[0;34m\u001b[0m\u001b[0m\n\u001b[0;32m-> 1098\u001b[0;31m                 mapped = lib.map_infer(\n\u001b[0m\u001b[1;32m   1099\u001b[0m                     \u001b[0mvalues\u001b[0m\u001b[0;34m,\u001b[0m\u001b[0;34m\u001b[0m\u001b[0;34m\u001b[0m\u001b[0m\n\u001b[1;32m   1100\u001b[0m                     \u001b[0mf\u001b[0m\u001b[0;34m,\u001b[0m  \u001b[0;31m# type: ignore[arg-type]\u001b[0m\u001b[0;34m\u001b[0m\u001b[0;34m\u001b[0m\u001b[0m\n",
      "\u001b[0;32m~/tensorflow_macos_venv/lib/python3.8/site-packages/pandas/_libs/lib.pyx\u001b[0m in \u001b[0;36mpandas._libs.lib.map_infer\u001b[0;34m()\u001b[0m\n",
      "\u001b[0;32m/var/folders/rd/0nr5tzsn2z17vy9fjcj5rlsc0000gn/T/ipykernel_52212/689513516.py\u001b[0m in \u001b[0;36m<lambda>\u001b[0;34m(x)\u001b[0m\n\u001b[1;32m      1\u001b[0m \u001b[0;32mdef\u001b[0m \u001b[0mword_cloud_figure\u001b[0m\u001b[0;34m(\u001b[0m\u001b[0mtext\u001b[0m\u001b[0;34m)\u001b[0m\u001b[0;34m:\u001b[0m\u001b[0;34m\u001b[0m\u001b[0;34m\u001b[0m\u001b[0m\n\u001b[0;32m----> 2\u001b[0;31m     \u001b[0mword_tokens_list\u001b[0m \u001b[0;34m=\u001b[0m \u001b[0mtext\u001b[0m\u001b[0;34m.\u001b[0m\u001b[0mapply\u001b[0m\u001b[0;34m(\u001b[0m\u001b[0;32mlambda\u001b[0m \u001b[0mx\u001b[0m\u001b[0;34m:\u001b[0m \u001b[0mdmh\u001b[0m\u001b[0;34m.\u001b[0m\u001b[0mtokenize_text\u001b[0m\u001b[0;34m(\u001b[0m\u001b[0mx\u001b[0m\u001b[0;34m)\u001b[0m\u001b[0;34m)\u001b[0m\u001b[0;34m\u001b[0m\u001b[0;34m\u001b[0m\u001b[0m\n\u001b[0m\u001b[1;32m      3\u001b[0m \u001b[0;34m\u001b[0m\u001b[0m\n\u001b[1;32m      4\u001b[0m     \u001b[0mstop_words\u001b[0m \u001b[0;34m=\u001b[0m \u001b[0mset\u001b[0m\u001b[0;34m(\u001b[0m\u001b[0mstopwords\u001b[0m\u001b[0;34m.\u001b[0m\u001b[0mwords\u001b[0m\u001b[0;34m(\u001b[0m\u001b[0;34m'english'\u001b[0m\u001b[0;34m)\u001b[0m\u001b[0;34m)\u001b[0m\u001b[0;34m\u001b[0m\u001b[0;34m\u001b[0m\u001b[0m\n\u001b[1;32m      5\u001b[0m \u001b[0;34m\u001b[0m\u001b[0m\n",
      "\u001b[0;31mNameError\u001b[0m: name 'dmh' is not defined"
     ]
    }
   ],
   "source": [
    "# positive\n",
    "word_cloud_figure(data[data['score'] == 1]['sentance'])"
   ]
  },
  {
   "cell_type": "code",
   "execution_count": null,
   "id": "a4edb131",
   "metadata": {},
   "outputs": [],
   "source": [
    "# negative\n",
    "word_cloud_figure(data[data['score'] == 0]['sentance'])"
   ]
  },
  {
   "cell_type": "markdown",
   "id": "fd8970d7",
   "metadata": {},
   "source": [
    "### Missing value"
   ]
  },
  {
   "cell_type": "code",
   "execution_count": null,
   "id": "ca6cf9a9",
   "metadata": {},
   "outputs": [],
   "source": [
    "# import self defined functions\n",
    "import helpers.data_mining_helpers as dmh"
   ]
  },
  {
   "cell_type": "code",
   "execution_count": null,
   "id": "cbce9b59",
   "metadata": {},
   "outputs": [],
   "source": [
    "data.isnull()"
   ]
  },
  {
   "cell_type": "code",
   "execution_count": null,
   "id": "e4e3e288",
   "metadata": {},
   "outputs": [],
   "source": [
    "data.isnull().apply(lambda x: dmh.check_missing_values(x))"
   ]
  },
  {
   "cell_type": "markdown",
   "id": "005dc863",
   "metadata": {},
   "source": [
    "There is no missing values have to handle..."
   ]
  },
  {
   "cell_type": "markdown",
   "id": "0cd52e7e",
   "metadata": {},
   "source": [
    "### Data preprocessing"
   ]
  },
  {
   "cell_type": "code",
   "execution_count": null,
   "id": "3d46285e",
   "metadata": {},
   "outputs": [],
   "source": [
    "SAMPLE_SIZE = 1000"
   ]
  },
  {
   "cell_type": "code",
   "execution_count": null,
   "id": "d38b20ca",
   "metadata": {},
   "outputs": [],
   "source": [
    "data_sample = data.sample(n=SAMPLE_SIZE) # random state\n",
    "data_sample.shape"
   ]
  },
  {
   "cell_type": "code",
   "execution_count": null,
   "id": "1c1bee84",
   "metadata": {},
   "outputs": [],
   "source": [
    "data_sample.head()"
   ]
  },
  {
   "cell_type": "code",
   "execution_count": null,
   "id": "47ae5d35",
   "metadata": {},
   "outputs": [],
   "source": [
    "# dataset distribution\n",
    "print(data_sample.dataset.value_counts())\n",
    "\n",
    "# plot barchart for [dataset]\n",
    "plt.subplot(1,2,1)\n",
    "data.dataset.value_counts().plot(kind = 'bar',\n",
    "                                title = 'Dataset Distribution',\n",
    "                                ylim = [0, len(data) / 2],        \n",
    "                                rot = 0, fontsize = 11, figsize = (8,3))\n",
    "\n",
    "plt.subplot(1,2,2)\n",
    "data_sample.dataset.value_counts().plot(kind = 'bar',\n",
    "                                    title = 'Sample Dataset Distribution',\n",
    "                                    ylim = [0, len(data) / 2],        \n",
    "                                    rot = 0, fontsize = 11, figsize = (8,3))\n",
    "plt.show()"
   ]
  },
  {
   "cell_type": "code",
   "execution_count": null,
   "id": "45ce3a9f",
   "metadata": {},
   "outputs": [],
   "source": [
    "print(data_sample.score.value_counts())\n",
    "\n",
    "# plot barchart for [score]\n",
    "plt.subplot(1,2,1)\n",
    "data.score.value_counts().plot(kind = 'bar',\n",
    "                                title = 'Score Distribution',\n",
    "                                ylim = [0, len(data)],        \n",
    "                                rot = 0, fontsize = 11, figsize = (8,3))\n",
    "\n",
    "plt.subplot(1,2,2)\n",
    "data_sample.score.value_counts().plot(kind = 'bar',\n",
    "                                    title = 'Sample Score Distribution',\n",
    "                                    ylim = [0, len(data)],        \n",
    "                                    rot = 0, fontsize = 11, figsize = (8,3))\n",
    "plt.show()"
   ]
  },
  {
   "cell_type": "code",
   "execution_count": null,
   "id": "823cf5a0",
   "metadata": {},
   "outputs": [],
   "source": [
    "data['sentance'].apply(lambda x: dmh.tokenize_text(x))"
   ]
  },
  {
   "cell_type": "code",
   "execution_count": null,
   "id": "a28b44bd",
   "metadata": {},
   "outputs": [],
   "source": [
    "from sklearn.feature_extraction.text import CountVectorizer\n",
    "\n",
    "count_vect = CountVectorizer()\n",
    "data_counts = count_vect.fit_transform(data.sentance) # learn the vocabulary and return document-term matrix\n",
    "print(data_counts[0])"
   ]
  },
  {
   "cell_type": "code",
   "execution_count": null,
   "id": "6a514058",
   "metadata": {},
   "outputs": [],
   "source": [
    "analyze = count_vect.build_analyzer()\n",
    "analyze(data['sentance'][0])"
   ]
  },
  {
   "cell_type": "code",
   "execution_count": null,
   "id": "0cd3e9d2",
   "metadata": {},
   "outputs": [],
   "source": [
    "count_vect.get_feature_names_out()[0:10]"
   ]
  },
  {
   "cell_type": "markdown",
   "id": "42e55da4",
   "metadata": {},
   "source": [
    "### Dimensionality reduction"
   ]
  },
  {
   "cell_type": "code",
   "execution_count": null,
   "id": "6940e4a1",
   "metadata": {},
   "outputs": [],
   "source": [
    "from sklearn.decomposition import PCA"
   ]
  },
  {
   "cell_type": "code",
   "execution_count": null,
   "id": "8c3e4481",
   "metadata": {},
   "outputs": [],
   "source": [
    "scores = [0, 1]"
   ]
  },
  {
   "cell_type": "code",
   "execution_count": null,
   "id": "ddf9fe82",
   "metadata": {},
   "outputs": [],
   "source": [
    "import matplotlib.pyplot as plt\n",
    "%matplotlib inline"
   ]
  },
  {
   "cell_type": "code",
   "execution_count": null,
   "id": "3343ba27",
   "metadata": {},
   "outputs": [],
   "source": [
    "data_reduced = PCA(n_components = 2).fit_transform(data_counts.toarray())\n",
    "\n",
    "col = ['coral', 'blue', 'black', 'orange']\n",
    "\n",
    "# plot\n",
    "fig = plt.figure(figsize = (25,10))\n",
    "ax = fig.subplots()\n",
    "\n",
    "for c, score in zip(col, scores):\n",
    "    xs = data_reduced[data['score'] == score].T[0]\n",
    "    ys = data_reduced[data['score'] == score].T[1]\n",
    "    \n",
    "    ax.scatter(xs, ys, c = c, marker='o')\n",
    "\n",
    "ax.grid(color='gray', linestyle=':', linewidth=2, alpha=0.2)\n",
    "ax.set_xlabel('\\nX Label')\n",
    "ax.set_ylabel('\\nY Label')\n",
    "\n",
    "plt.show()"
   ]
  },
  {
   "cell_type": "code",
   "execution_count": null,
   "id": "82bb9231",
   "metadata": {
    "scrolled": true
   },
   "outputs": [],
   "source": [
    "data_reduced_3D = PCA(n_components = 3).fit_transform(data_counts.toarray())\n",
    "\n",
    "col = ['coral', 'blue', 'black', 'orange']\n",
    "\n",
    "# plot\n",
    "fig = plt.figure(figsize = (25,10))\n",
    "ax = fig.add_subplot(111, projection='3d')\n",
    "\n",
    "for c, score in zip(col, scores):\n",
    "    xs = data_reduced_3D[data['score'] == score].T[0]\n",
    "    ys = data_reduced_3D[data['score'] == score].T[1]\n",
    "    zs = data_reduced_3D[data['score'] == score].T[2]\n",
    "    \n",
    "    ax.scatter(xs, ys, zs, c = c, marker='o')\n",
    "\n",
    "ax.grid(color='gray', linestyle=':', linewidth=2, alpha=0.2)\n",
    "ax.set_xlabel('\\nX Label')\n",
    "ax.set_ylabel('\\nY Label')\n",
    "ax.set_zlabel(\"\\nZ Label\")\n",
    "\n",
    "plt.show()"
   ]
  },
  {
   "cell_type": "markdown",
   "id": "693a5634",
   "metadata": {},
   "source": [
    "### Attribute transformation / Aggregation"
   ]
  },
  {
   "cell_type": "code",
   "execution_count": null,
   "id": "df91433f",
   "metadata": {},
   "outputs": [],
   "source": [
    "term_frequencies = []\n",
    "\n",
    "for j in range(0,data_counts.shape[1]):\n",
    "    term_frequencies.append(sum(data_counts[:,j].toarray()))\n",
    "    \n",
    "term_frequencies = np.asarray(data_counts.sum(axis=0))[0]\n",
    "term_frequencies"
   ]
  },
  {
   "cell_type": "code",
   "execution_count": null,
   "id": "4d3d6bcc",
   "metadata": {},
   "outputs": [],
   "source": [
    "import seaborn as sns\n",
    "\n",
    "plt.subplots(figsize=(100, 10))\n",
    "g = sns.barplot(x=count_vect.get_feature_names_out()[:100], \n",
    "            y=term_frequencies[:100])\n",
    "g.set_xticklabels(count_vect.get_feature_names_out()[:100], rotation = 90);"
   ]
  },
  {
   "cell_type": "code",
   "execution_count": null,
   "id": "da36df82",
   "metadata": {},
   "outputs": [],
   "source": [
    "import plotly.express as px\n",
    "\n",
    "def get_above_frequency_word(words, frequency_list, baseline):\n",
    "    extract_words, extract_indexes = [], []\n",
    "    for i in range(len(words)):\n",
    "        if(frequency_list[i] >= baseline):\n",
    "            extract_words.append(words[i])\n",
    "            extract_indexes.append(frequency_list[i])\n",
    "    return extract_words, extract_indexes\n",
    "\n",
    "# plot words frequency chart\n",
    "extract_words, extract_indexes = get_above_frequency_word(count_vect.get_feature_names_out(), term_frequencies, 100)\n",
    "fig = px.bar(x=extract_words, y=extract_indexes)\n",
    "fig.update_layout(barmode='stack', xaxis={'categoryorder':'total descending'})\n",
    "fig.show()"
   ]
  },
  {
   "cell_type": "markdown",
   "id": "1494281e",
   "metadata": {},
   "source": [
    "### TF-IDF"
   ]
  },
  {
   "cell_type": "code",
   "execution_count": null,
   "id": "22e98946",
   "metadata": {},
   "outputs": [],
   "source": [
    "data.shape"
   ]
  },
  {
   "cell_type": "code",
   "execution_count": null,
   "id": "67a575ab",
   "metadata": {},
   "outputs": [],
   "source": [
    "from sklearn.feature_extraction.text import TfidfVectorizer\n",
    "\n",
    "# initialise TfidfVectorizer\n",
    "vectoriser = TfidfVectorizer(norm = None, max_features = 400)\n",
    "\n",
    "# obtain weights of each term to each document in corpus (ie, tf-idf scores)\n",
    "corpus = [sentance for sentance in data.sentance]\n",
    "tf_idf_scores = vectoriser.fit_transform(corpus)\n",
    "\n",
    "result = pd.DataFrame(tf_idf_scores.toarray(), columns=vectoriser.get_feature_names())\n",
    "result.head()"
   ]
  },
  {
   "cell_type": "markdown",
   "id": "c5867998",
   "metadata": {},
   "source": [
    "### Naive Bayes classifier"
   ]
  },
  {
   "cell_type": "code",
   "execution_count": null,
   "id": "60a1861a",
   "metadata": {},
   "outputs": [],
   "source": [
    "from sklearn.naive_bayes import BernoulliNB\n",
    "from sklearn.feature_extraction.text import CountVectorizer\n",
    "from sklearn.metrics import confusion_matrix, accuracy_score\n",
    "from sklearn.metrics import classification_report\n",
    "from sklearn.model_selection import train_test_split"
   ]
  },
  {
   "cell_type": "code",
   "execution_count": null,
   "id": "9d154a30",
   "metadata": {},
   "outputs": [],
   "source": [
    "# TF-IDF\n",
    "\n",
    "X = data.sentance\n",
    "y = data.score.astype('int')\n",
    "X_train, X_test, y_train, y_test = train_test_split(X, y, test_size=0.3, random_state=0)\n",
    "\n",
    "tfidf = TfidfVectorizer().fit(X)\n",
    "\n",
    "tfidf_train = tfidf.transform(X_train).toarray()\n",
    "tfidf_test = tfidf.transform(X_test).toarray()\n",
    "\n",
    "# instantiate the model (using the default parameters)\n",
    "NB = BernoulliNB()\n",
    "NB.fit(tfidf_train, y_train)\n",
    "\n",
    "# perform classification and prediction on samples in tf_test\n",
    "predicted_NB = NB.predict(tfidf_test)\n",
    "\n",
    "print(\"TF-IDF score:\", \"{:.4f}\".format(NB.score(tfidf_test, y_test)))\n",
    "print(classification_report(y_test, predicted_NB))"
   ]
  },
  {
   "cell_type": "code",
   "execution_count": null,
   "id": "5c2822ba",
   "metadata": {},
   "outputs": [],
   "source": [
    "# Word Frequency\n",
    "count_vect = CountVectorizer().fit(X)\n",
    "\n",
    "# fit and transform input data\n",
    "bow_train = count_vect.transform(X_train).toarray()\n",
    "bow_test = count_vect.transform(X_test).toarray()\n",
    "\n",
    "NB = BernoulliNB()\n",
    "NB.fit(bow_train, y_train)\n",
    "\n",
    "# perform classification and prediction on samples in bow_test\n",
    "predicted_NB = NB.predict(bow_test)\n",
    "\n",
    "print(\"CountVector score:\", \"{:.4f}\".format(NB.score(bow_test, y_test)))\n",
    "print(classification_report(y_test, predicted_NB))"
   ]
  },
  {
   "cell_type": "markdown",
   "id": "a3ba099b",
   "metadata": {},
   "source": [
    "It seems that they have the same performace on score."
   ]
  }
 ],
 "metadata": {
  "kernelspec": {
   "display_name": "Python 3 (ipykernel)",
   "language": "python",
   "name": "python3"
  },
  "language_info": {
   "codemirror_mode": {
    "name": "ipython",
    "version": 3
   },
   "file_extension": ".py",
   "mimetype": "text/x-python",
   "name": "python",
   "nbconvert_exporter": "python",
   "pygments_lexer": "ipython3",
   "version": "3.8.12"
  }
 },
 "nbformat": 4,
 "nbformat_minor": 5
}
